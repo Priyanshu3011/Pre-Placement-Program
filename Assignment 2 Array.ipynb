{
 "cells": [
  {
   "cell_type": "markdown",
   "id": "2ec85773-35e0-4b8b-b101-66ce3b3f11d7",
   "metadata": {},
   "source": [
    "                                            Assignment 2 Array"
   ]
  },
  {
   "cell_type": "markdown",
   "id": "341aca4a-bd0b-4bfc-87e3-a76e4d63c311",
   "metadata": {},
   "source": [
    "Q.1.Ans:"
   ]
  },
  {
   "cell_type": "code",
   "execution_count": 1,
   "id": "108f4487-e0dc-47ed-9685-f50a396f3a36",
   "metadata": {},
   "outputs": [
    {
     "name": "stdout",
     "output_type": "stream",
     "text": [
      "4\n"
     ]
    }
   ],
   "source": [
    "def array_pair_sum(nums):\n",
    "    \n",
    "    nums.sort()  # Sort the array in ascending order\n",
    "    \n",
    "    max_sum = 0\n",
    "    \n",
    "    for i in range(0, len(nums), 2):\n",
    "        max_sum += nums[i]\n",
    "    return max_sum\n",
    "\n",
    "#Example\n",
    "nums = [1,4,3,2]\n",
    "result = array_pair_sum(nums)\n",
    "print(result)"
   ]
  },
  {
   "cell_type": "markdown",
   "id": "b1a55f61-e1f5-4b6a-9d97-e8b4f307cb29",
   "metadata": {},
   "source": [
    "Q.2.Ans:"
   ]
  },
  {
   "cell_type": "code",
   "execution_count": 2,
   "id": "86b24f61-3fb4-4569-b7de-86e85b0cf799",
   "metadata": {},
   "outputs": [
    {
     "name": "stdout",
     "output_type": "stream",
     "text": [
      "3\n"
     ]
    }
   ],
   "source": [
    "def max_candies(candy_Type):\n",
    "    \n",
    "    unique_candies = set()\n",
    "    \n",
    "    for candy in candy_Type:\n",
    "        \n",
    "        unique_candies.add(candy)\n",
    "    \n",
    "    max_types = min(len(unique_candies), len(candy_Type) // 2)\n",
    "    \n",
    "    return max_types\n",
    "\n",
    "#Example\n",
    "candyType = [1,1,2,2,3,3]\n",
    "\n",
    "result = max_candies(candyType)\n",
    "\n",
    "print(result)\n"
   ]
  },
  {
   "cell_type": "markdown",
   "id": "5870146a-1036-4721-b5d5-3b0135ed13a2",
   "metadata": {},
   "source": [
    "Q.3.Ans:"
   ]
  },
  {
   "cell_type": "code",
   "execution_count": 3,
   "id": "846ad116-f45a-4cb6-8f76-18d993f6f3b6",
   "metadata": {},
   "outputs": [
    {
     "name": "stdout",
     "output_type": "stream",
     "text": [
      "5\n"
     ]
    }
   ],
   "source": [
    "from collections import Counter\n",
    "\n",
    "def findLHS(nums):\n",
    "    \n",
    "    frequency = Counter(nums)\n",
    "    \n",
    "    max_length = 0\n",
    "    \n",
    "    for num in frequency:\n",
    "        \n",
    "        if num + 1 in frequency:\n",
    "            \n",
    "            max_length = max(max_length, frequency[num] + frequency[num + 1])\n",
    "            \n",
    "    return max_length\n",
    "\n",
    "\n",
    "#Example\n",
    "nums = [1,3,2,2,5,2,3,7]\n",
    "\n",
    "result = findLHS(nums)\n",
    "\n",
    "print(result)"
   ]
  },
  {
   "cell_type": "markdown",
   "id": "b7cd3ceb-631d-4bfb-9642-df4dde97fe60",
   "metadata": {},
   "source": [
    "Q.4.Ans:"
   ]
  },
  {
   "cell_type": "code",
   "execution_count": 4,
   "id": "5e9b8c60-853d-4f30-8a2e-3d67031c505e",
   "metadata": {},
   "outputs": [
    {
     "name": "stdout",
     "output_type": "stream",
     "text": [
      "True\n"
     ]
    }
   ],
   "source": [
    "def canPlaceFlowers(flowerbed, n):\n",
    "    \n",
    "    count = 0\n",
    "    \n",
    "    for i in range(len(flowerbed)):\n",
    "        \n",
    "        if (\n",
    "            flowerbed[i] == 0 and\n",
    "            (i == 0 or flowerbed[i - 1] == 0) and\n",
    "            (i == len(flowerbed) - 1 or flowerbed[i + 1] == 0)\n",
    "        ):\n",
    "            flowerbed[i] = 1\n",
    "            count += 1\n",
    "    return count >= n\n",
    "\n",
    "\n",
    "#Example\n",
    "flowerbed = [1,0,0,0,1] \n",
    "n = 1\n",
    "\n",
    "result = canPlaceFlowers(flowerbed,n)\n",
    "          \n",
    "print(result)"
   ]
  },
  {
   "cell_type": "markdown",
   "id": "a9f6d373-0a4a-4f9c-90c3-a7d6b1bf38e4",
   "metadata": {},
   "source": [
    "Q.5.Ans:"
   ]
  },
  {
   "cell_type": "code",
   "execution_count": 5,
   "id": "38783aa5-5e03-4dec-b9c0-f1be0c57cef3",
   "metadata": {},
   "outputs": [
    {
     "name": "stdout",
     "output_type": "stream",
     "text": [
      "6\n"
     ]
    }
   ],
   "source": [
    "def maximumProduct(nums):\n",
    "    \n",
    "    nums.sort()\n",
    "    \n",
    "    max_product = max(nums[-1] * nums[-2] * nums[-3], nums[0] * nums[1] * nums[-1])\n",
    "    \n",
    "    return max_product\n",
    "\n",
    "#Example\n",
    "nums = [1,2,3]\n",
    "\n",
    "result = maximumProduct(nums)\n",
    "\n",
    "print(result)"
   ]
  },
  {
   "cell_type": "markdown",
   "id": "51c94ddf-3603-415b-9db2-54c5c0e25ecb",
   "metadata": {},
   "source": [
    "Q.6.Ans:"
   ]
  },
  {
   "cell_type": "code",
   "execution_count": 6,
   "id": "5d8b1a6a-d424-4883-9246-c513f9de3f1c",
   "metadata": {},
   "outputs": [
    {
     "name": "stdout",
     "output_type": "stream",
     "text": [
      "4\n"
     ]
    }
   ],
   "source": [
    "def search(nums, target):\n",
    "    \n",
    "    left, right = 0, len(nums) - 1\n",
    "    \n",
    "    while left <= right:\n",
    "        \n",
    "        mid = left + (right - left) // 2\n",
    "        \n",
    "        if nums[mid] == target:\n",
    "            \n",
    "            return mid\n",
    "        \n",
    "        elif nums[mid] < target:\n",
    "            \n",
    "            left = mid + 1\n",
    "            \n",
    "        else:\n",
    "            \n",
    "            right = mid - 1\n",
    "            \n",
    "    return -1\n",
    "\n",
    "#Example\n",
    "\n",
    "nums = [-1,0,3,5,9,12]\n",
    "target = 9\n",
    "\n",
    "result = search(nums , target)\n",
    "print(result)"
   ]
  },
  {
   "cell_type": "markdown",
   "id": "0fdbad3c-21b5-4561-9faf-e098636b02de",
   "metadata": {},
   "source": [
    "Q.7.Ans"
   ]
  },
  {
   "cell_type": "code",
   "execution_count": 7,
   "id": "4985855e-70d0-4af8-a904-de799285cd00",
   "metadata": {},
   "outputs": [
    {
     "name": "stdout",
     "output_type": "stream",
     "text": [
      "True\n"
     ]
    }
   ],
   "source": [
    "def isMonotonic(nums):\n",
    "    \n",
    "    isIncreasing = True\n",
    "    \n",
    "    isDecreasing = True\n",
    "    \n",
    "    for i in range(1, len(nums)):\n",
    "        \n",
    "        if nums[i] > nums[i - 1]:\n",
    "            \n",
    "            isDecreasing = False\n",
    "            \n",
    "        if nums[i] < nums[i - 1]:\n",
    "            \n",
    "            isIncreasing = False\n",
    "            \n",
    "    return isIncreasing or isDecreasing\n",
    "\n",
    "\n",
    "#Example\n",
    "nums = [1,2,2,3]\n",
    "\n",
    "result = isMonotonic(nums)\n",
    "\n",
    "print(result)"
   ]
  },
  {
   "cell_type": "markdown",
   "id": "c7830656-b0ac-44e5-9c57-7281f796dec7",
   "metadata": {},
   "source": [
    "Q.8.Ans:"
   ]
  },
  {
   "cell_type": "code",
   "execution_count": 8,
   "id": "0b4ee433-330f-4464-a908-6a6cfa7f10ea",
   "metadata": {},
   "outputs": [
    {
     "name": "stdout",
     "output_type": "stream",
     "text": [
      "0\n"
     ]
    }
   ],
   "source": [
    "def minimumScore(nums, k):\n",
    "    \n",
    "    min_score = float('inf')\n",
    "    \n",
    "    max_score = float('-inf')\n",
    "    \n",
    "    for num in nums:\n",
    "        \n",
    "        for x in range(-k, k+1):\n",
    "            \n",
    "            new_value = num + x\n",
    "            \n",
    "            min_score = min(min_score, new_value)\n",
    "            \n",
    "            max_score = max(max_score, new_value)\n",
    "    \n",
    "    return max_score - min_score\n",
    "\n",
    "#Example\n",
    "nums = [1]\n",
    "k = 0\n",
    "\n",
    "result = minimumScore(nums,k)\n",
    "\n",
    "print(result)"
   ]
  },
  {
   "cell_type": "code",
   "execution_count": null,
   "id": "da270544-40c9-4c59-bf55-8cee8bad12e1",
   "metadata": {},
   "outputs": [],
   "source": []
  }
 ],
 "metadata": {
  "kernelspec": {
   "display_name": "Python 3 (ipykernel)",
   "language": "python",
   "name": "python3"
  },
  "language_info": {
   "codemirror_mode": {
    "name": "ipython",
    "version": 3
   },
   "file_extension": ".py",
   "mimetype": "text/x-python",
   "name": "python",
   "nbconvert_exporter": "python",
   "pygments_lexer": "ipython3",
   "version": "3.10.8"
  }
 },
 "nbformat": 4,
 "nbformat_minor": 5
}
