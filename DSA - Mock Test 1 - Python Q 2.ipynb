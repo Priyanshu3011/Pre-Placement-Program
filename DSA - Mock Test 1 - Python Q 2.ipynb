{
 "cells": [
  {
   "cell_type": "markdown",
   "id": "1add8b61-f5c1-47a0-85c2-afc068fe2594",
   "metadata": {},
   "source": [
    "                                        DSA - Mock Test 1 - Python\n",
    "                                            Coding Questions"
   ]
  },
  {
   "cell_type": "markdown",
   "id": "d75bb803-196b-4fc7-9f0c-a30a4583c743",
   "metadata": {},
   "source": [
    "Q.2.Ans:"
   ]
  },
  {
   "cell_type": "code",
   "execution_count": 1,
   "id": "a1c2f8e5-e549-4962-bf9b-ecf117005d8d",
   "metadata": {},
   "outputs": [
    {
     "name": "stdout",
     "output_type": "stream",
     "text": [
      "0\n"
     ]
    }
   ],
   "source": [
    "def firstUniqChar(s):\n",
    "    char_count = {}\n",
    "    \n",
    "    # Update character count\n",
    "    for char in s:\n",
    "        char_count[char] = char_count.get(char, 0) + 1\n",
    "    \n",
    "    # Check for first non-repeating character\n",
    "    for i in range(len(s)):\n",
    "        if char_count[s[i]] == 1:\n",
    "            return i\n",
    "    \n",
    "    return -1\n",
    "\n",
    "#Example 1:\n",
    "s = \"leetcode\"\n",
    "print(firstUniqChar(s))\n",
    "\n",
    "#The algorithm has a time complexity of O(n), where n is the length of the string 's'\n",
    "#The space complexity is O(1) "
   ]
  },
  {
   "cell_type": "code",
   "execution_count": 2,
   "id": "6ff927c1-bde4-4ff2-9567-e1966a56f195",
   "metadata": {},
   "outputs": [
    {
     "name": "stdout",
     "output_type": "stream",
     "text": [
      "2\n"
     ]
    }
   ],
   "source": [
    "#Example 2:\n",
    "\n",
    "s = \"loveleetcode\"\n",
    "print(firstUniqChar(s))\n"
   ]
  },
  {
   "cell_type": "code",
   "execution_count": 3,
   "id": "e4478cf7-2937-4dc8-98fa-a45b2b6348c5",
   "metadata": {},
   "outputs": [
    {
     "name": "stdout",
     "output_type": "stream",
     "text": [
      "-1\n"
     ]
    }
   ],
   "source": [
    "#Example 3:\n",
    "\n",
    "s = \"aabb\"\n",
    "print(firstUniqChar(s))\n"
   ]
  },
  {
   "cell_type": "code",
   "execution_count": null,
   "id": "72186bf5-6b43-47a3-95b7-06a543f73c45",
   "metadata": {},
   "outputs": [],
   "source": []
  }
 ],
 "metadata": {
  "kernelspec": {
   "display_name": "Python 3 (ipykernel)",
   "language": "python",
   "name": "python3"
  },
  "language_info": {
   "codemirror_mode": {
    "name": "ipython",
    "version": 3
   },
   "file_extension": ".py",
   "mimetype": "text/x-python",
   "name": "python",
   "nbconvert_exporter": "python",
   "pygments_lexer": "ipython3",
   "version": "3.10.8"
  }
 },
 "nbformat": 4,
 "nbformat_minor": 5
}
