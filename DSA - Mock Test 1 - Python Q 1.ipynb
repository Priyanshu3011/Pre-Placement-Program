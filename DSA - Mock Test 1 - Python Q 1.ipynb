{
 "cells": [
  {
   "cell_type": "markdown",
   "id": "20fbaae3-0efd-4d05-8b3d-dc975d76126f",
   "metadata": {},
   "source": [
    "                                            DSA - Mock Test 1 - Python\n",
    "                                                Coding Questions"
   ]
  },
  {
   "cell_type": "markdown",
   "id": "d0d3f1d2-9363-4fca-8124-20b859b2f1d6",
   "metadata": {},
   "source": [
    "Q.1.Ans:"
   ]
  },
  {
   "cell_type": "code",
   "execution_count": 1,
   "id": "5c4a06dc-127e-4397-ade7-0cd8b68aaa08",
   "metadata": {},
   "outputs": [
    {
     "name": "stdout",
     "output_type": "stream",
     "text": [
      "[1, 3, 12, 0, 0]\n"
     ]
    }
   ],
   "source": [
    "def moveZeroes(nums):\n",
    "    zero_index = 0  # Index to keep track of the position to place non-zero elements\n",
    "\n",
    "    # Iterate through the array\n",
    "    for i in range(len(nums)):\n",
    "        if nums[i] != 0:\n",
    "            nums[i], nums[zero_index] = nums[zero_index], nums[i]\n",
    "            zero_index += 1\n",
    "\n",
    "# Example 1:\n",
    "nums = [0, 1, 0, 3, 12]\n",
    "moveZeroes(nums)\n",
    "print(nums)\n",
    "\n",
    "#The algorithm has a time complexity of O(n), \n",
    "#where n is the length of the array nums, as we iterate through the array once.\n",
    "#The space complexity is O(1) since no additional space is used."
   ]
  },
  {
   "cell_type": "code",
   "execution_count": 2,
   "id": "a6d46859-90be-4cec-81dc-880b9f570837",
   "metadata": {},
   "outputs": [
    {
     "name": "stdout",
     "output_type": "stream",
     "text": [
      "[0]\n"
     ]
    }
   ],
   "source": [
    "#Example 2:\n",
    "\n",
    "nums = [0]\n",
    "moveZeroes(nums)\n",
    "print(nums)"
   ]
  }
 ],
 "metadata": {
  "kernelspec": {
   "display_name": "Python 3 (ipykernel)",
   "language": "python",
   "name": "python3"
  },
  "language_info": {
   "codemirror_mode": {
    "name": "ipython",
    "version": 3
   },
   "file_extension": ".py",
   "mimetype": "text/x-python",
   "name": "python",
   "nbconvert_exporter": "python",
   "pygments_lexer": "ipython3",
   "version": "3.10.8"
  }
 },
 "nbformat": 4,
 "nbformat_minor": 5
}
